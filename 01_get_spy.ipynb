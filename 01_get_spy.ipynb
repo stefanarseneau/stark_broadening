{
 "cells": [
  {
   "cell_type": "markdown",
   "metadata": {},
   "source": [
    "## Stark Broadening Asymmetries From SPY\n",
    "\n",
    "[The SPY survey](https://ui.adsabs.harvard.edu/abs/2020A%26A...638A.131N/abstract) has a ton of high-res WD spectra. I'm gonna see how much Stark broadening affects their absorption lines."
   ]
  },
  {
   "cell_type": "code",
   "execution_count": 52,
   "metadata": {},
   "outputs": [],
   "source": [
    "import glob\n",
    "import os\n",
    "import numpy as np\n",
    "\n",
    "from astropy.io import ascii\n",
    "from astropy.table import Table\n",
    "import matplotlib.pyplot as plt\n",
    "plt.style.use('../../proj/core-composition/notebooks/stefan.mplstyle')"
   ]
  },
  {
   "cell_type": "code",
   "execution_count": null,
   "metadata": {},
   "outputs": [
    {
     "name": "stdout",
     "output_type": "stream",
     "text": [
      "5cc35d694a33b175 /mnt/d/arsen/research/misc/stark_broadening/data/raw/EC12489m2750_a_2000_07_13T01_26_13_all.dat.gz\n",
      "2f09e3816b4b142e /mnt/d/arsen/research/misc/stark_broadening/data/raw/EC12489m2750_b_2000_07_15T23_51_15_all.dat.gz\n",
      "724401fd44c5dfe7 /mnt/d/arsen/research/misc/stark_broadening/data/raw/EC13123m2523_a_2000_04_22T03_01_23_all.dat.gz\n",
      "1ffb3aec93908517 /mnt/d/arsen/research/misc/stark_broadening/data/raw/EC13123m2523_b_2000_04_25T05_27_39_all.dat.gz\n",
      "cf959dbaae4b6af0 /mnt/d/arsen/research/misc/stark_broadening/data/raw/HE0031m5525_a_2002_07_27T06_08_16_all.dat.gz\n",
      "ced816a05a11189d /mnt/d/arsen/research/misc/stark_broadening/data/raw/HE0031m5525_b_2001_12_17T00_51_42_all.dat.gz\n",
      "c83b655955c66004 /mnt/d/arsen/research/misc/stark_broadening/data/raw/HE0032m2744_a_2002_09_15T03_00_04_all.dat.gz\n",
      "49947ad5bea0eb87 /mnt/d/arsen/research/misc/stark_broadening/data/raw/HE0032m2744_b_2002_09_18T03_06_51_all.dat.gz\n",
      "2c9e04a4aaccb5e9 /mnt/d/arsen/research/misc/stark_broadening/data/raw/HE0043m0318_a_2002_12_02T01_31_03_all.dat.gz\n",
      "5c98af0b37ab6789 /mnt/d/arsen/research/misc/stark_broadening/data/raw/HE0043m0318_b_2003_01_16T01_44_20_all.dat.gz\n",
      "2fd039c86d23687f /mnt/d/arsen/research/misc/stark_broadening/data/raw/HE0049m0940_a_2002_09_26T08_39_31_all.dat.gz\n",
      "e2f37161eccba7e7 /mnt/d/arsen/research/misc/stark_broadening/data/raw/HE0049m0940_b_2002_09_27T06_27_23_all.dat.gz\n",
      "59d491936f01c559 /mnt/d/arsen/research/misc/stark_broadening/data/raw/HE0103m3253_a_2002_09_15T03_36_35_all.dat.gz\n",
      "623a56d1cda6729b /mnt/d/arsen/research/misc/stark_broadening/data/raw/HE0103m3253_b_2002_09_25T07_00_07_all.dat.gz\n",
      "a7a968720e6720bc /mnt/d/arsen/research/misc/stark_broadening/data/raw/HE0106m3253_a_2000_12_07T02_53_55_all.dat.gz\n",
      "274ee1b8e8940491 /mnt/d/arsen/research/misc/stark_broadening/data/raw/HE0106m3253_b_2001_08_25T08_44_57_all.dat.gz\n",
      "6707a498dc720e6f /mnt/d/arsen/research/misc/stark_broadening/data/raw/HE0130m2721_a_2002_09_15T04_41_09_all.dat.gz\n",
      "3dfc076cbd26aa93 /mnt/d/arsen/research/misc/stark_broadening/data/raw/HE0130m2721_b_2002_09_27T07_32_41_all.dat.gz\n",
      "aa6deb6d2d24a812 /mnt/d/arsen/research/misc/stark_broadening/data/raw/HE0131p0149_a_2002_09_19T05_55_34_all.dat.gz\n",
      "4271921283f68a4c /mnt/d/arsen/research/misc/stark_broadening/data/raw/HE0131p0149_b_2001_08_22T09_20_44_all.dat.gz\n",
      "efae42a53889b2f8 /mnt/d/arsen/research/misc/stark_broadening/data/raw/HE0145m0610_a_2003_01_19T01_13_47_all.dat.gz\n",
      "0314b42752598bf7 /mnt/d/arsen/research/misc/stark_broadening/data/raw/HE0145m0610_a_2003_01_19T01_33_36_all.dat.gz\n",
      "90fb47c04c8ef0f2 /mnt/d/arsen/research/misc/stark_broadening/data/raw/HE0145m0610_b_2003_09_21T04_12_02_all.dat.gz\n",
      "3da52c44a498731e /mnt/d/arsen/research/misc/stark_broadening/data/raw/HE0150p0045_a_2003_02_05T00_59_38_all.dat.gz\n",
      "05a1de4adc011959 /mnt/d/arsen/research/misc/stark_broadening/data/raw/HE0152m5009_a_2002_09_15T09_00_08_all.dat.gz\n",
      "2c1791dd8b6c65df /mnt/d/arsen/research/misc/stark_broadening/data/raw/HE0152m5009_b_2002_09_27T08_18_41_all.dat.gz\n",
      "c6e83129ab780869 /mnt/d/arsen/research/misc/stark_broadening/data/raw/HE0201m0513_a_2002_09_20T04_28_06_all.dat.gz\n",
      "47718a962ff6b59e /mnt/d/arsen/research/misc/stark_broadening/data/raw/HE0204m3821_a_2000_12_06T01_49_23_all.dat.gz\n",
      "59a5b220bc75870b /mnt/d/arsen/research/misc/stark_broadening/data/raw/HE0204m3821_a_2001_09_13T09_12_30_all.dat.gz\n",
      "a76779ed189af73f /mnt/d/arsen/research/misc/stark_broadening/data/raw/HE0204m3821_a_2002_07_10T09_07_11_all.dat.gz\n",
      "aa949be3518c9a90 /mnt/d/arsen/research/misc/stark_broadening/data/raw/HE0204m3821_b_2002_09_10T08_42_02_all.dat.gz\n",
      "28c78cfd2b0b2a97 /mnt/d/arsen/research/misc/stark_broadening/data/raw/HE0204m4213_a_2002_09_15T09_13_55_all.dat.gz\n",
      "4f73b9a4a0a37b42 /mnt/d/arsen/research/misc/stark_broadening/data/raw/HE0204m4213_b_2002_09_20T04_57_32_all.dat.gz\n",
      "c0e2f0207b67bd90 /mnt/d/arsen/research/misc/stark_broadening/data/raw/HE0205m2945_a_2001_09_23T08_54_22_all.dat.gz\n",
      "41b7d9d6d134a86a /mnt/d/arsen/research/misc/stark_broadening/data/raw/HE0205m2945_b_2002_09_15T07_43_06_all.dat.gz\n"
     ]
    }
   ],
   "source": [
    "from astropy.io import ascii, fits\n",
    "from astropy.table import Table\n",
    "import hashlib\n",
    "import urllib.request\n",
    "import re\n",
    "\n",
    "def read_spectrum(dirpath, download_files = False):\n",
    "    dirpath = os.path.abspath(dirpath)\n",
    "    objects = Table.read('http://cdsarc.u-strasbg.fr/viz-bin/nph-Cat/fits.gz?J/A+A/638/A131/objects.dat')\n",
    "    objects['FileName'] = [re.sub(r'dat', 'dat.gz', s).replace(' ', '') for s in objects['FileName']]\n",
    "    objects['Name'] = [s.replace(' ', '') for s in objects['Name']]\n",
    "    objects['id'] = [hashlib.sha256(f\"{file}\".encode()).hexdigest()[:16] for file in objects['FileName']]\n",
    "    info_table, spec_table = {}, {}\n",
    "\n",
    "    for id, file in zip(objects['id'], objects['FileName']):\n",
    "        path = os.path.join(dirpath, file)\n",
    "        if not os.path.isfile(path):\n",
    "            if download_files:\n",
    "                print(f\"Downloading {path}\")\n",
    "                urllib.request.urlretrieve(f\"http://cdsarc.u-strasbg.fr/ftp/J/A+A/638/A131/sp/{file}\", filename=path)\n",
    "            else:\n",
    "                continue\n",
    "            \n",
    "        table = ascii.read(path)\n",
    "        print(id, path)\n",
    "        snr = 20\n",
    "        wl = table['Table'].data\n",
    "        fl = table[':'].data\n",
    "        ivar =  snr**2 / (table[':'].data + 1e-6)**2\n",
    "        spec_table[id] = (wl, fl, ivar)\n",
    "\n",
    "    return spec_table, objects\n",
    "\n",
    "spec_table, objects = read_spectrum('./data/raw')"
   ]
  },
  {
   "cell_type": "code",
   "execution_count": 34,
   "metadata": {},
   "outputs": [
    {
     "name": "stderr",
     "output_type": "stream",
     "text": [
      "<>:50: SyntaxWarning: invalid escape sequence '\\c'\n",
      "<>:50: SyntaxWarning: invalid escape sequence '\\c'\n",
      "/tmp/ipykernel_49543/1163302642.py:50: SyntaxWarning: invalid escape sequence '\\c'\n",
      "  ax2.set_ylabel('$\\chi^2$ Agreement')\n"
     ]
    }
   ],
   "source": [
    "import corv\n",
    "from tqdm import tqdm\n",
    "\n",
    "def test_windows(wl, fl, ivar, n = 10):\n",
    "    window = dict(a = 15, b = 15,)\n",
    "    edges = dict(a = 0, b = 0)\n",
    "    rv_data = []\n",
    "    windows = []\n",
    "\n",
    "    steps = np.linspace(0, 85, n)\n",
    "    for step in tqdm(steps):\n",
    "        temp_window = window.copy()\n",
    "        temp_window['a'] += step\n",
    "        temp_window['b'] += step\n",
    "        \n",
    "        corvmodel = corv.models.WarwickDAModel(model_name='1d_da_nlte', names = ['a', 'b'], resolution = 0.0637, windows=temp_window, edges=edges)\n",
    "        rv, e_rv, redchi, param_res = corv.fit.fit_corv(wl, fl, ivar, corvmodel.model)\n",
    "\n",
    "        rv_data.append([rv, e_rv, param_res])\n",
    "        windows.append([temp_window['a'], temp_window['b']])\n",
    "\n",
    "    return np.array(rv_data), np.array(windows)\n",
    "\n",
    "def process_results(parameters, windows, plot=True, **kwargs):\n",
    "    rvs, e_rvs, params = parameters[:,0], parameters[:,1], parameters[:,1]\n",
    "    windows = windows[:,0]\n",
    "    diff = rvs - rvs[0]\n",
    "    significance = lambda rv, e_rv : (rv - rvs[0]) / np.sqrt(e_rv**2 + e_rvs[0]**2)\n",
    "    sigs = [significance(r, e) for r, e in zip(rvs, e_rvs)]\n",
    "\n",
    "    if plot:\n",
    "        fig, (ax1, ax2) = plt.subplots(nrows = 2, figsize=(10,10), **kwargs)\n",
    "        ax1.errorbar(windows, diff, yerr = e_rvs, fmt='o', c = 'k', markersize=8, capsize=10)\n",
    "        ax1.axhline(y=0, c='k', ls='--')\n",
    "        ax1.set_ylabel('$RV - RV_0$ [$km/s]$')\n",
    "\n",
    "        ax2.scatter(windows, sigs, s = 40, c = 'k')\n",
    "        ax2.axhline(y=0, c='k', ls='--')\n",
    "        \n",
    "        ymin, ymax = ax2.get_ylim()\n",
    "        if (ymax < 2):\n",
    "            ax2.set_ylim(ymin,2)\n",
    "        ymin, ymax = ax2.get_ylim()\n",
    "        if (ymin > -2):\n",
    "            ax2.set_ylim(-2, ymax)\n",
    "\n",
    "        xmin, xmax = ax2.get_xlim()\n",
    "        ax2.fill_between([xmin,xmax], -1, 1, color='green', alpha=0.5, zorder=0)\n",
    "        ax2.set_xlim(xmin, xmax)\n",
    "        ax2.set_ylabel('$\\\\chi$ Agreement')\n",
    "        ax2.set_xlabel(r'Fit Window Size [$\\AA$]')\n",
    "\n",
    "    res_dict = {\n",
    "        'windows' : windows,\n",
    "        'rvs' : rvs,\n",
    "        'e_rvs' : e_rvs,\n",
    "        'differentials' : diff,\n",
    "        'significance' : sigs\n",
    "    }\n",
    "    return res_dict"
   ]
  },
  {
   "cell_type": "code",
   "execution_count": 46,
   "metadata": {},
   "outputs": [
    {
     "data": {
      "text/plain": [
       "{'5cc35d694a33b175': (array([3290.06, 3290.1 , 3290.14, ..., 6641.89, 6641.94, 6641.99]),\n",
       "  array([0.    , 0.    , 0.    , ..., 0.209 , 0.2052, 0.2108]),\n",
       "  array([4.00000000e+14, 4.00000000e+14, 4.00000000e+14, ...,\n",
       "         9.15721188e+03, 9.49950653e+03, 9.00149527e+03])),\n",
       " '2f09e3816b4b142e': (array([3290.06, 3290.1 , 3290.14, ..., 6641.89, 6641.94, 6641.99]),\n",
       "  array([0.    , 0.    , 0.    , ..., 0.2272, 0.234 , 0.2539]),\n",
       "  array([4.00000000e+14, 4.00000000e+14, 4.00000000e+14, ...,\n",
       "         7.74889033e+03, 7.30507307e+03, 6.20484831e+03])),\n",
       " '724401fd44c5dfe7': (array([3290.05, 3290.09, 3290.13, ..., 6641.88, 6641.93, 6641.98]),\n",
       "  array([0.    , 0.    , 0.    , ..., 0.4068, 0.3914, 0.3848]),\n",
       "  array([4.00000000e+14, 4.00000000e+14, 4.00000000e+14, ...,\n",
       "         2.41710751e+03, 2.61105566e+03, 2.70139199e+03])),\n",
       " '1ffb3aec93908517': (array([3290.05, 3290.09, 3290.13, ..., 6641.88, 6641.93, 6641.98]),\n",
       "  array([0.    , 0.    , 0.    , ..., 0.3857, 0.3916, 0.3909]),\n",
       "  array([4.00000000e+14, 4.00000000e+14, 4.00000000e+14, ...,\n",
       "         2.68879977e+03, 2.60838928e+03, 2.61773951e+03])),\n",
       " 'cf959dbaae4b6af0': (array([3290.05, 3290.09, 3290.13, ..., 6641.9 , 6641.95, 6642.  ]),\n",
       "  array([0.    , 0.    , 0.    , ..., 0.8588, 0.7011, 0.7442]),\n",
       "  array([4.00000000e+14, 4.00000000e+14, 4.00000000e+14, ...,\n",
       "         5.42344086e+02, 8.13764646e+02, 7.22236600e+02])),\n",
       " 'ced816a05a11189d': (array([3290.03, 3290.07, 3290.11, ..., 6641.85, 6641.9 , 6641.95]),\n",
       "  array([0.    , 0.    , 0.    , ..., 0.2221, 0.2153, 0.2305]),\n",
       "  array([4.00000000e+14, 4.00000000e+14, 4.00000000e+14, ...,\n",
       "         8.10884434e+03, 8.62914760e+03, 7.52860243e+03])),\n",
       " 'c83b655955c66004': (array([3290.03, 3290.07, 3290.11, ..., 6641.9 , 6641.96, 6642.01]),\n",
       "  array([0.    , 0.    , 0.    , ..., 0.4556, 0.4061, 0.4351]),\n",
       "  array([4.00000000e+14, 4.00000000e+14, 4.00000000e+14, ...,\n",
       "         1.92703967e+03, 2.42544747e+03, 2.11290431e+03])),\n",
       " '49947ad5bea0eb87': (array([3290.04, 3290.08, 3290.12, ..., 6641.91, 6641.96, 6642.01]),\n",
       "  array([0.    , 0.    , 0.    , ..., 0.4553, 0.3669, 0.3691]),\n",
       "  array([4.00000000e+14, 4.00000000e+14, 4.00000000e+14, ...,\n",
       "         1.92957997e+03, 2.97140740e+03, 2.93609124e+03])),\n",
       " '2c9e04a4aaccb5e9': (array([3290.02, 3290.06, 3290.1 , ..., 6641.88, 6641.93, 6641.98]),\n",
       "  array([0.    , 0.    , 0.    , ..., 0.8761, 0.8824, 0.8947]),\n",
       "  array([4.00000000e+14, 4.00000000e+14, 4.00000000e+14, ...,\n",
       "         5.21136677e+02, 5.13721815e+02, 4.99694013e+02])),\n",
       " '5c98af0b37ab6789': (array([3290.05, 3290.09, 3290.13, ..., 6641.9 , 6641.95, 6642.  ]),\n",
       "  array([0.    , 0.    , 0.    , ..., 0.7799, 0.7682, 0.756 ]),\n",
       "  array([4.00000000e+14, 4.00000000e+14, 4.00000000e+14, ...,\n",
       "         6.57629122e+02, 6.77813563e+02, 6.99866573e+02]))}"
      ]
     },
     "execution_count": 46,
     "metadata": {},
     "output_type": "execute_result"
    }
   ],
   "source": [
    "spec_table"
   ]
  },
  {
   "cell_type": "code",
   "execution_count": 51,
   "metadata": {},
   "outputs": [
    {
     "name": "stdout",
     "output_type": "stream",
     "text": [
      "2f09e3816b4b142e\n"
     ]
    },
    {
     "name": "stderr",
     "output_type": "stream",
     "text": [
      "  0%|          | 0/10 [00:00<?, ?it/s]"
     ]
    },
    {
     "name": "stderr",
     "output_type": "stream",
     "text": [
      " 90%|█████████ | 9/10 [01:11<00:07,  7.99s/it]\n"
     ]
    },
    {
     "ename": "KeyboardInterrupt",
     "evalue": "",
     "output_type": "error",
     "traceback": [
      "\u001b[0;31m---------------------------------------------------------------------------\u001b[0m",
      "\u001b[0;31mKeyboardInterrupt\u001b[0m                         Traceback (most recent call last)",
      "Cell \u001b[0;32mIn[51], line 30\u001b[0m\n\u001b[1;32m     27\u001b[0m             write_dict_to_json(results, \u001b[38;5;124m'\u001b[39m\u001b[38;5;124m./data/processed/rv_windows.json\u001b[39m\u001b[38;5;124m'\u001b[39m)\n\u001b[1;32m     28\u001b[0m     \u001b[38;5;28;01mreturn\u001b[39;00m results\n\u001b[0;32m---> 30\u001b[0m results \u001b[38;5;241m=\u001b[39m \u001b[43manalyze_spectra\u001b[49m\u001b[43m(\u001b[49m\u001b[43mspec_table\u001b[49m\u001b[43m)\u001b[49m\n",
      "Cell \u001b[0;32mIn[51], line 19\u001b[0m, in \u001b[0;36manalyze_spectra\u001b[0;34m(spec_dict, from_cache)\u001b[0m\n\u001b[1;32m     17\u001b[0m \u001b[38;5;28mprint\u001b[39m(key)\n\u001b[1;32m     18\u001b[0m wl, fl, ivar \u001b[38;5;241m=\u001b[39m spec_dict[key]\n\u001b[0;32m---> 19\u001b[0m parameters, windows \u001b[38;5;241m=\u001b[39m \u001b[43mtest_windows\u001b[49m\u001b[43m(\u001b[49m\u001b[43mwl\u001b[49m\u001b[43m,\u001b[49m\u001b[43m \u001b[49m\u001b[43mfl\u001b[49m\u001b[43m,\u001b[49m\u001b[43m \u001b[49m\u001b[43mivar\u001b[49m\u001b[43m)\u001b[49m\n\u001b[1;32m     20\u001b[0m results[key] \u001b[38;5;241m=\u001b[39m process_results(parameters, windows, plot\u001b[38;5;241m=\u001b[39m\u001b[38;5;28;01mFalse\u001b[39;00m)\n\u001b[1;32m     21\u001b[0m write_dict_to_json(results, \u001b[38;5;124m'\u001b[39m\u001b[38;5;124m./data/processed/rv_windows.json\u001b[39m\u001b[38;5;124m'\u001b[39m)\n",
      "Cell \u001b[0;32mIn[34], line 17\u001b[0m, in \u001b[0;36mtest_windows\u001b[0;34m(wl, fl, ivar, n)\u001b[0m\n\u001b[1;32m     14\u001b[0m temp_window[\u001b[38;5;124m'\u001b[39m\u001b[38;5;124mb\u001b[39m\u001b[38;5;124m'\u001b[39m] \u001b[38;5;241m+\u001b[39m\u001b[38;5;241m=\u001b[39m step\n\u001b[1;32m     16\u001b[0m corvmodel \u001b[38;5;241m=\u001b[39m corv\u001b[38;5;241m.\u001b[39mmodels\u001b[38;5;241m.\u001b[39mWarwickDAModel(model_name\u001b[38;5;241m=\u001b[39m\u001b[38;5;124m'\u001b[39m\u001b[38;5;124m1d_da_nlte\u001b[39m\u001b[38;5;124m'\u001b[39m, names \u001b[38;5;241m=\u001b[39m [\u001b[38;5;124m'\u001b[39m\u001b[38;5;124ma\u001b[39m\u001b[38;5;124m'\u001b[39m, \u001b[38;5;124m'\u001b[39m\u001b[38;5;124mb\u001b[39m\u001b[38;5;124m'\u001b[39m], resolution \u001b[38;5;241m=\u001b[39m \u001b[38;5;241m0.0637\u001b[39m, windows\u001b[38;5;241m=\u001b[39mtemp_window, edges\u001b[38;5;241m=\u001b[39medges)\n\u001b[0;32m---> 17\u001b[0m rv, e_rv, redchi, param_res \u001b[38;5;241m=\u001b[39m \u001b[43mcorv\u001b[49m\u001b[38;5;241;43m.\u001b[39;49m\u001b[43mfit\u001b[49m\u001b[38;5;241;43m.\u001b[39;49m\u001b[43mfit_corv\u001b[49m\u001b[43m(\u001b[49m\u001b[43mwl\u001b[49m\u001b[43m,\u001b[49m\u001b[43m \u001b[49m\u001b[43mfl\u001b[49m\u001b[43m,\u001b[49m\u001b[43m \u001b[49m\u001b[43mivar\u001b[49m\u001b[43m,\u001b[49m\u001b[43m \u001b[49m\u001b[43mcorvmodel\u001b[49m\u001b[38;5;241;43m.\u001b[39;49m\u001b[43mmodel\u001b[49m\u001b[43m)\u001b[49m\n\u001b[1;32m     19\u001b[0m rv_data\u001b[38;5;241m.\u001b[39mappend([rv, e_rv, param_res])\n\u001b[1;32m     20\u001b[0m windows\u001b[38;5;241m.\u001b[39mappend([temp_window[\u001b[38;5;124m'\u001b[39m\u001b[38;5;124ma\u001b[39m\u001b[38;5;124m'\u001b[39m], temp_window[\u001b[38;5;124m'\u001b[39m\u001b[38;5;124mb\u001b[39m\u001b[38;5;124m'\u001b[39m]])\n",
      "File \u001b[0;32m~/miniconda3/envs/stark/lib/python3.12/site-packages/corv/fit.py:290\u001b[0m, in \u001b[0;36mfit_corv\u001b[0;34m(wl, fl, ivar, corvmodel, xcorr_kw, iter_teff, tpar)\u001b[0m\n\u001b[1;32m    286\u001b[0m     param_res \u001b[38;5;241m=\u001b[39m lmfit\u001b[38;5;241m.\u001b[39mminimize(residual, params)\n\u001b[1;32m    288\u001b[0m bestparams \u001b[38;5;241m=\u001b[39m param_res\u001b[38;5;241m.\u001b[39mparams\u001b[38;5;241m.\u001b[39mcopy()\n\u001b[0;32m--> 290\u001b[0m rv, e_rv, redchi \u001b[38;5;241m=\u001b[39m \u001b[43mfit_rv\u001b[49m\u001b[43m(\u001b[49m\u001b[43mwl\u001b[49m\u001b[43m,\u001b[49m\u001b[43m \u001b[49m\u001b[43mfl\u001b[49m\u001b[43m,\u001b[49m\u001b[43m \u001b[49m\u001b[43mivar\u001b[49m\u001b[43m,\u001b[49m\u001b[43m \u001b[49m\u001b[43mcorvmodel\u001b[49m\u001b[43m,\u001b[49m\u001b[43m \u001b[49m\u001b[43mbestparams\u001b[49m\u001b[43m,\u001b[49m\u001b[43m \u001b[49m\u001b[38;5;241;43m*\u001b[39;49m\u001b[38;5;241;43m*\u001b[39;49m\u001b[43mxcorr_kw\u001b[49m\u001b[43m)\u001b[49m\n\u001b[1;32m    292\u001b[0m param_res\u001b[38;5;241m.\u001b[39mparams[\u001b[38;5;124m'\u001b[39m\u001b[38;5;124mRV\u001b[39m\u001b[38;5;124m'\u001b[39m]\u001b[38;5;241m.\u001b[39mvalue \u001b[38;5;241m=\u001b[39m rv\n\u001b[1;32m    294\u001b[0m \u001b[38;5;28;01mreturn\u001b[39;00m rv, e_rv, redchi, param_res\n",
      "File \u001b[0;32m~/miniconda3/envs/stark/lib/python3.12/site-packages/corv/fit.py:216\u001b[0m, in \u001b[0;36mfit_rv\u001b[0;34m(wl, fl, ivar, corvmodel, params, fix_nonrv, xcorr_kw)\u001b[0m\n\u001b[1;32m    185\u001b[0m \u001b[38;5;28;01mdef\u001b[39;00m \u001b[38;5;21mfit_rv\u001b[39m(wl, fl, ivar, corvmodel, params, fix_nonrv \u001b[38;5;241m=\u001b[39m \u001b[38;5;28;01mTrue\u001b[39;00m, \n\u001b[1;32m    186\u001b[0m            xcorr_kw \u001b[38;5;241m=\u001b[39m {}):\n\u001b[1;32m    187\u001b[0m \u001b[38;5;250m    \u001b[39m\u001b[38;5;124;03m\"\"\"\u001b[39;00m\n\u001b[1;32m    188\u001b[0m \u001b[38;5;124;03m    Use LMFIT to fit RV, after first estimating it by cross-correlation. \u001b[39;00m\n\u001b[1;32m    189\u001b[0m \n\u001b[0;32m   (...)\u001b[0m\n\u001b[1;32m    213\u001b[0m \n\u001b[1;32m    214\u001b[0m \u001b[38;5;124;03m    \"\"\"\u001b[39;00m\n\u001b[0;32m--> 216\u001b[0m     rv, e_rv, redchi, rvgrid, cc \u001b[38;5;241m=\u001b[39m \u001b[43mxcorr_rv\u001b[49m\u001b[43m(\u001b[49m\u001b[43mwl\u001b[49m\u001b[43m,\u001b[49m\u001b[43m \u001b[49m\u001b[43mfl\u001b[49m\u001b[43m,\u001b[49m\u001b[43m \u001b[49m\u001b[43mivar\u001b[49m\u001b[43m,\u001b[49m\u001b[43m \u001b[49m\u001b[43mcorvmodel\u001b[49m\u001b[43m,\u001b[49m\u001b[43m \u001b[49m\u001b[43mparams\u001b[49m\u001b[43m,\u001b[49m\n\u001b[1;32m    217\u001b[0m \u001b[43m                                   \u001b[49m\u001b[38;5;241;43m*\u001b[39;49m\u001b[38;5;241;43m*\u001b[39;49m\u001b[43mxcorr_kw\u001b[49m\u001b[43m)\u001b[49m\n\u001b[1;32m    219\u001b[0m     \u001b[38;5;66;03m#if fix_nonrv:\u001b[39;00m\n\u001b[1;32m    220\u001b[0m     \u001b[38;5;66;03m#    for param in params:\u001b[39;00m\n\u001b[1;32m    221\u001b[0m     \u001b[38;5;66;03m#        params[param].set(vary = False)\u001b[39;00m\n\u001b[0;32m   (...)\u001b[0m\n\u001b[1;32m    227\u001b[0m     \n\u001b[1;32m    228\u001b[0m     \u001b[38;5;66;03m#res = lmfit.minimize(residual, params)\u001b[39;00m\n\u001b[1;32m    230\u001b[0m     \u001b[38;5;28;01mreturn\u001b[39;00m rv, e_rv, redchi\n",
      "File \u001b[0;32m~/miniconda3/envs/stark/lib/python3.12/site-packages/corv/fit.py:116\u001b[0m, in \u001b[0;36mxcorr_rv\u001b[0;34m(wl, fl, ivar, corvmodel, params, min_rv, max_rv, npoints, quad_window, plot)\u001b[0m\n\u001b[1;32m    114\u001b[0m \u001b[38;5;28;01mfor\u001b[39;00m ii,rv \u001b[38;5;129;01min\u001b[39;00m \u001b[38;5;28menumerate\u001b[39m(rvgrid):\n\u001b[1;32m    115\u001b[0m     params[\u001b[38;5;124m'\u001b[39m\u001b[38;5;124mRV\u001b[39m\u001b[38;5;124m'\u001b[39m]\u001b[38;5;241m.\u001b[39mset(value \u001b[38;5;241m=\u001b[39m rv)\n\u001b[0;32m--> 116\u001b[0m     resid \u001b[38;5;241m=\u001b[39m \u001b[43mresidual\u001b[49m\u001b[43m(\u001b[49m\u001b[43mparams\u001b[49m\u001b[43m)\u001b[49m\n\u001b[1;32m    117\u001b[0m     chi \u001b[38;5;241m=\u001b[39m np\u001b[38;5;241m.\u001b[39mnansum(resid\u001b[38;5;241m*\u001b[39m\u001b[38;5;241m*\u001b[39m\u001b[38;5;241m2\u001b[39m)\n\u001b[1;32m    118\u001b[0m     redchi \u001b[38;5;241m=\u001b[39m np\u001b[38;5;241m.\u001b[39mnansum(resid\u001b[38;5;241m*\u001b[39m\u001b[38;5;241m*\u001b[39m\u001b[38;5;241m2\u001b[39m) \u001b[38;5;241m/\u001b[39m (\u001b[38;5;28mlen\u001b[39m(resid) \u001b[38;5;241m-\u001b[39m \u001b[38;5;241m1\u001b[39m)\n",
      "File \u001b[0;32m~/miniconda3/envs/stark/lib/python3.12/site-packages/corv/fit.py:111\u001b[0m, in \u001b[0;36mxcorr_rv.<locals>.<lambda>\u001b[0;34m(params)\u001b[0m\n\u001b[1;32m    108\u001b[0m rcc \u001b[38;5;241m=\u001b[39m np\u001b[38;5;241m.\u001b[39mzeros(\u001b[38;5;28mlen\u001b[39m(rvgrid))\n\u001b[1;32m    109\u001b[0m \u001b[38;5;66;03m#params = corvmodel.make_params()\u001b[39;00m\n\u001b[0;32m--> 111\u001b[0m residual \u001b[38;5;241m=\u001b[39m \u001b[38;5;28;01mlambda\u001b[39;00m params: \u001b[43mnormalized_residual\u001b[49m\u001b[43m(\u001b[49m\u001b[43mwl\u001b[49m\u001b[43m,\u001b[49m\u001b[43m \u001b[49m\u001b[43mfl\u001b[49m\u001b[43m,\u001b[49m\u001b[43m \u001b[49m\u001b[43mivar\u001b[49m\u001b[43m,\u001b[49m\u001b[43m \u001b[49m\n\u001b[1;32m    112\u001b[0m \u001b[43m                                              \u001b[49m\u001b[43mcorvmodel\u001b[49m\u001b[43m,\u001b[49m\u001b[43m \u001b[49m\u001b[43mparams\u001b[49m\u001b[43m,\u001b[49m\u001b[43m \u001b[49m\u001b[43mfit_window\u001b[49m\u001b[43m \u001b[49m\u001b[38;5;241;43m=\u001b[39;49m\u001b[43m \u001b[49m\u001b[38;5;241;43m25\u001b[39;49m\u001b[43m)\u001b[49m\n\u001b[1;32m    113\u001b[0m \u001b[38;5;66;03m#print(params)\u001b[39;00m\n\u001b[1;32m    114\u001b[0m \u001b[38;5;28;01mfor\u001b[39;00m ii,rv \u001b[38;5;129;01min\u001b[39;00m \u001b[38;5;28menumerate\u001b[39m(rvgrid):\n",
      "File \u001b[0;32m~/miniconda3/envs/stark/lib/python3.12/site-packages/corv/fit.py:40\u001b[0m, in \u001b[0;36mnormalized_residual\u001b[0;34m(wl, fl, ivar, corvmodel, params, fit_window)\u001b[0m\n\u001b[1;32m     16\u001b[0m \u001b[38;5;28;01mdef\u001b[39;00m \u001b[38;5;21mnormalized_residual\u001b[39m(wl, fl, ivar, corvmodel, params, fit_window \u001b[38;5;241m=\u001b[39m \u001b[38;5;28;01mNone\u001b[39;00m):\n\u001b[1;32m     17\u001b[0m \u001b[38;5;250m    \u001b[39m\u001b[38;5;124;03m\"\"\"\u001b[39;00m\n\u001b[1;32m     18\u001b[0m \u001b[38;5;124;03m    Error-scaled residuals between data and evaluated model\u001b[39;00m\n\u001b[1;32m     19\u001b[0m \n\u001b[0;32m   (...)\u001b[0m\n\u001b[1;32m     37\u001b[0m \n\u001b[1;32m     38\u001b[0m \u001b[38;5;124;03m    \"\"\"\u001b[39;00m\n\u001b[0;32m---> 40\u001b[0m     nwl, nfl, nivar \u001b[38;5;241m=\u001b[39m \u001b[43mutils\u001b[49m\u001b[38;5;241;43m.\u001b[39;49m\u001b[43mcont_norm_lines\u001b[49m\u001b[43m(\u001b[49m\u001b[43mwl\u001b[49m\u001b[43m,\u001b[49m\u001b[43m \u001b[49m\u001b[43mfl\u001b[49m\u001b[43m,\u001b[49m\u001b[43m \u001b[49m\u001b[43mivar\u001b[49m\u001b[43m,\u001b[49m\n\u001b[1;32m     41\u001b[0m \u001b[43m                                            \u001b[49m\u001b[43mcorvmodel\u001b[49m\u001b[38;5;241;43m.\u001b[39;49m\u001b[43mnames\u001b[49m\u001b[43m,\u001b[49m\n\u001b[1;32m     42\u001b[0m \u001b[43m                                            \u001b[49m\u001b[43mcorvmodel\u001b[49m\u001b[38;5;241;43m.\u001b[39;49m\u001b[43mcentres\u001b[49m\u001b[43m,\u001b[49m\n\u001b[1;32m     43\u001b[0m \u001b[43m                                            \u001b[49m\u001b[43mcorvmodel\u001b[49m\u001b[38;5;241;43m.\u001b[39;49m\u001b[43mwindows\u001b[49m\u001b[43m,\u001b[49m\n\u001b[1;32m     44\u001b[0m \u001b[43m                                            \u001b[49m\u001b[43mcorvmodel\u001b[49m\u001b[38;5;241;43m.\u001b[39;49m\u001b[43medges\u001b[49m\u001b[43m)\u001b[49m\n\u001b[1;32m     46\u001b[0m     \u001b[38;5;66;03m#if fit_window is not None:\u001b[39;00m\n\u001b[1;32m     47\u001b[0m     \u001b[38;5;66;03m#    for ii in range(len(nivar)):\u001b[39;00m\n\u001b[1;32m     48\u001b[0m     \u001b[38;5;66;03m#        in_center = []\u001b[39;00m\n\u001b[0;32m   (...)\u001b[0m\n\u001b[1;32m     58\u001b[0m     \u001b[38;5;66;03m#        if not True in in_center:\u001b[39;00m\n\u001b[1;32m     59\u001b[0m     \u001b[38;5;66;03m#            nivar[ii] = 0            \u001b[39;00m\n\u001b[1;32m     61\u001b[0m     _,nmodel \u001b[38;5;241m=\u001b[39m models\u001b[38;5;241m.\u001b[39mget_normalized_model(wl, corvmodel, params)\n",
      "File \u001b[0;32m~/miniconda3/envs/stark/lib/python3.12/site-packages/corv/utils.py:141\u001b[0m, in \u001b[0;36mcont_norm_lines\u001b[0;34m(wl, fl, ivar, names, centres, windows, edges)\u001b[0m\n\u001b[1;32m    134\u001b[0m \u001b[38;5;28;01mfor\u001b[39;00m line \u001b[38;5;129;01min\u001b[39;00m names:\n\u001b[1;32m    135\u001b[0m     nwli, nfli, nivari \u001b[38;5;241m=\u001b[39m cont_norm_line(wl, \n\u001b[1;32m    136\u001b[0m                                         fl, \n\u001b[1;32m    137\u001b[0m                                         ivar, \n\u001b[1;32m    138\u001b[0m                                         centres[line], \n\u001b[1;32m    139\u001b[0m                                         windows[line], \n\u001b[1;32m    140\u001b[0m                                         edges[line])\n\u001b[0;32m--> 141\u001b[0m     \u001b[43mnwl\u001b[49m\u001b[38;5;241;43m.\u001b[39;49m\u001b[43mextend\u001b[49m\u001b[43m(\u001b[49m\u001b[43mnwli\u001b[49m\u001b[43m)\u001b[49m\n\u001b[1;32m    142\u001b[0m     nfl\u001b[38;5;241m.\u001b[39mextend(nfli)\n\u001b[1;32m    143\u001b[0m     nivar\u001b[38;5;241m.\u001b[39mextend(nivari)\n",
      "\u001b[0;31mKeyboardInterrupt\u001b[0m: "
     ]
    }
   ],
   "source": [
    "import json\n",
    "\n",
    "def write_dict_to_json(dictionary, filename):\n",
    "    def convert_ndarray(obj):\n",
    "        if isinstance(obj, np.ndarray):\n",
    "            return obj.tolist()\n",
    "        \n",
    "    with open(filename, 'w') as json_file:\n",
    "        json.dump(dictionary, json_file, indent=4, default=convert_ndarray)\n",
    "\n",
    "def analyze_spectra(spec_dict, from_cache=True):\n",
    "    with open('./data/processed/rv_windows.json') as json_file:\n",
    "        cache = json.load(json_file)\n",
    "    results = {}\n",
    "    for key in spec_dict.keys():\n",
    "        if from_cache and (key not in list(cache.keys())):\n",
    "            print(key)\n",
    "            wl, fl, ivar = spec_dict[key]\n",
    "            parameters, windows = test_windows(wl, fl, ivar)\n",
    "            results[key] = process_results(parameters, windows, plot=False)\n",
    "            write_dict_to_json(results, './data/processed/rv_windows.json')\n",
    "        elif not from_cache:\n",
    "            print(key)\n",
    "            wl, fl, ivar = spec_dict[key]\n",
    "            parameters, windows = test_windows(wl, fl, ivar)\n",
    "            results[key] = process_results(parameters, windows, plot=False)\n",
    "            write_dict_to_json(results, './data/processed/rv_windows.json')\n",
    "    return results\n",
    "\n",
    "results = analyze_spectra(spec_table)"
   ]
  },
  {
   "cell_type": "code",
   "execution_count": null,
   "metadata": {},
   "outputs": [],
   "source": []
  },
  {
   "cell_type": "code",
   "execution_count": 27,
   "metadata": {},
   "outputs": [
    {
     "name": "stderr",
     "output_type": "stream",
     "text": [
      "<>:12: SyntaxWarning: invalid escape sequence '\\c'\n",
      "<>:29: SyntaxWarning: invalid escape sequence '\\c'\n",
      "<>:30: SyntaxWarning: invalid escape sequence '\\c'\n",
      "<>:38: SyntaxWarning: invalid escape sequence '\\c'\n",
      "<>:12: SyntaxWarning: invalid escape sequence '\\c'\n",
      "<>:29: SyntaxWarning: invalid escape sequence '\\c'\n",
      "<>:30: SyntaxWarning: invalid escape sequence '\\c'\n",
      "<>:38: SyntaxWarning: invalid escape sequence '\\c'\n",
      "/tmp/ipykernel_49543/2507066450.py:12: SyntaxWarning: invalid escape sequence '\\c'\n",
      "  ax2.set_ylabel('$\\chi^2$ Agreement')\n",
      "/tmp/ipykernel_49543/2507066450.py:29: SyntaxWarning: invalid escape sequence '\\c'\n",
      "  ax.errorbar(wl, mean_sig, yerr = std_sig, label = f'Mean $\\chi^2$ (n = {len(result_dict.keys())})', c = 'k', fmt = 'o', markersize=8, capsize=10)\n",
      "/tmp/ipykernel_49543/2507066450.py:30: SyntaxWarning: invalid escape sequence '\\c'\n",
      "  ax.scatter(wl, median_sig, label = f'Median $\\chi^2$ (n = {len(result_dict.keys())})', c = 'blue', s = 60, zorder=10)\n",
      "/tmp/ipykernel_49543/2507066450.py:38: SyntaxWarning: invalid escape sequence '\\c'\n",
      "  ax.set_ylabel('$\\chi^2$ Agreement')\n",
      "/tmp/ipykernel_49543/2507066450.py:12: SyntaxWarning: invalid escape sequence '\\c'\n",
      "  ax2.set_ylabel('$\\chi^2$ Agreement')\n",
      "/tmp/ipykernel_49543/2507066450.py:29: SyntaxWarning: invalid escape sequence '\\c'\n",
      "  ax.errorbar(wl, mean_sig, yerr = std_sig, label = f'Mean $\\chi^2$ (n = {len(result_dict.keys())})', c = 'k', fmt = 'o', markersize=8, capsize=10)\n",
      "/tmp/ipykernel_49543/2507066450.py:30: SyntaxWarning: invalid escape sequence '\\c'\n",
      "  ax.scatter(wl, median_sig, label = f'Median $\\chi^2$ (n = {len(result_dict.keys())})', c = 'blue', s = 60, zorder=10)\n",
      "/tmp/ipykernel_49543/2507066450.py:38: SyntaxWarning: invalid escape sequence '\\c'\n",
      "  ax.set_ylabel('$\\chi^2$ Agreement')\n"
     ]
    },
    {
     "ename": "ValueError",
     "evalue": "'yerr' must not contain negative values",
     "output_type": "error",
     "traceback": [
      "\u001b[0;31m---------------------------------------------------------------------------\u001b[0m",
      "\u001b[0;31mValueError\u001b[0m                                Traceback (most recent call last)",
      "Cell \u001b[0;32mIn[27], line 41\u001b[0m\n\u001b[1;32m     38\u001b[0m     ax\u001b[38;5;241m.\u001b[39mset_ylabel(\u001b[38;5;124m'\u001b[39m\u001b[38;5;124m$\u001b[39m\u001b[38;5;124m\\\u001b[39m\u001b[38;5;124mchi^2$ Agreement\u001b[39m\u001b[38;5;124m'\u001b[39m)\n\u001b[1;32m     39\u001b[0m     ax\u001b[38;5;241m.\u001b[39mlegend(framealpha\u001b[38;5;241m=\u001b[39m\u001b[38;5;241m0\u001b[39m)\n\u001b[0;32m---> 41\u001b[0m \u001b[43mplot_ensemble\u001b[49m\u001b[43m(\u001b[49m\u001b[43mresults\u001b[49m\u001b[43m)\u001b[49m\n",
      "Cell \u001b[0;32mIn[27], line 5\u001b[0m, in \u001b[0;36mplot_ensemble\u001b[0;34m(result_dict)\u001b[0m\n\u001b[1;32m      2\u001b[0m fig, (ax1, ax2) \u001b[38;5;241m=\u001b[39m plt\u001b[38;5;241m.\u001b[39msubplots(nrows \u001b[38;5;241m=\u001b[39m \u001b[38;5;241m2\u001b[39m, figsize\u001b[38;5;241m=\u001b[39m(\u001b[38;5;241m10\u001b[39m,\u001b[38;5;241m10\u001b[39m))\n\u001b[1;32m      4\u001b[0m \u001b[38;5;28;01mfor\u001b[39;00m key \u001b[38;5;129;01min\u001b[39;00m result_dict\u001b[38;5;241m.\u001b[39mkeys():\n\u001b[0;32m----> 5\u001b[0m     \u001b[43max1\u001b[49m\u001b[38;5;241;43m.\u001b[39;49m\u001b[43merrorbar\u001b[49m\u001b[43m(\u001b[49m\u001b[43mresult_dict\u001b[49m\u001b[43m[\u001b[49m\u001b[43mkey\u001b[49m\u001b[43m]\u001b[49m\u001b[43m[\u001b[49m\u001b[43m:\u001b[49m\u001b[43m,\u001b[49m\u001b[38;5;241;43m0\u001b[39;49m\u001b[43m]\u001b[49m\u001b[43m,\u001b[49m\u001b[43m \u001b[49m\u001b[43mresult_dict\u001b[49m\u001b[43m[\u001b[49m\u001b[43mkey\u001b[49m\u001b[43m]\u001b[49m\u001b[43m[\u001b[49m\u001b[43m:\u001b[49m\u001b[43m,\u001b[49m\u001b[38;5;241;43m1\u001b[39;49m\u001b[43m]\u001b[49m\u001b[43m,\u001b[49m\u001b[43m \u001b[49m\u001b[43myerr\u001b[49m\u001b[43m \u001b[49m\u001b[38;5;241;43m=\u001b[39;49m\u001b[43m \u001b[49m\u001b[43mresult_dict\u001b[49m\u001b[43m[\u001b[49m\u001b[43mkey\u001b[49m\u001b[43m]\u001b[49m\u001b[43m[\u001b[49m\u001b[43m:\u001b[49m\u001b[43m,\u001b[49m\u001b[38;5;241;43m2\u001b[39;49m\u001b[43m]\u001b[49m\u001b[43m,\u001b[49m\u001b[43m \u001b[49m\u001b[43mmarkersize\u001b[49m\u001b[38;5;241;43m=\u001b[39;49m\u001b[38;5;241;43m8\u001b[39;49m\u001b[43m,\u001b[49m\u001b[43m \u001b[49m\u001b[43mcapsize\u001b[49m\u001b[38;5;241;43m=\u001b[39;49m\u001b[38;5;241;43m10\u001b[39;49m\u001b[43m)\u001b[49m\n\u001b[1;32m      6\u001b[0m     ax2\u001b[38;5;241m.\u001b[39mscatter(result_dict[key][:,\u001b[38;5;241m0\u001b[39m], result_dict[key][:,\u001b[38;5;241m3\u001b[39m])\n\u001b[1;32m      8\u001b[0m ax1\u001b[38;5;241m.\u001b[39maxhline(y \u001b[38;5;241m=\u001b[39m \u001b[38;5;241m0\u001b[39m, c \u001b[38;5;241m=\u001b[39m \u001b[38;5;124m'\u001b[39m\u001b[38;5;124mk\u001b[39m\u001b[38;5;124m'\u001b[39m, ls \u001b[38;5;241m=\u001b[39m \u001b[38;5;124m'\u001b[39m\u001b[38;5;124m--\u001b[39m\u001b[38;5;124m'\u001b[39m)\n",
      "File \u001b[0;32m~/miniconda3/envs/stark/lib/python3.12/site-packages/matplotlib/__init__.py:1473\u001b[0m, in \u001b[0;36m_preprocess_data.<locals>.inner\u001b[0;34m(ax, data, *args, **kwargs)\u001b[0m\n\u001b[1;32m   1470\u001b[0m \u001b[38;5;129m@functools\u001b[39m\u001b[38;5;241m.\u001b[39mwraps(func)\n\u001b[1;32m   1471\u001b[0m \u001b[38;5;28;01mdef\u001b[39;00m \u001b[38;5;21minner\u001b[39m(ax, \u001b[38;5;241m*\u001b[39margs, data\u001b[38;5;241m=\u001b[39m\u001b[38;5;28;01mNone\u001b[39;00m, \u001b[38;5;241m*\u001b[39m\u001b[38;5;241m*\u001b[39mkwargs):\n\u001b[1;32m   1472\u001b[0m     \u001b[38;5;28;01mif\u001b[39;00m data \u001b[38;5;129;01mis\u001b[39;00m \u001b[38;5;28;01mNone\u001b[39;00m:\n\u001b[0;32m-> 1473\u001b[0m         \u001b[38;5;28;01mreturn\u001b[39;00m \u001b[43mfunc\u001b[49m\u001b[43m(\u001b[49m\n\u001b[1;32m   1474\u001b[0m \u001b[43m            \u001b[49m\u001b[43max\u001b[49m\u001b[43m,\u001b[49m\n\u001b[1;32m   1475\u001b[0m \u001b[43m            \u001b[49m\u001b[38;5;241;43m*\u001b[39;49m\u001b[38;5;28;43mmap\u001b[39;49m\u001b[43m(\u001b[49m\u001b[43msanitize_sequence\u001b[49m\u001b[43m,\u001b[49m\u001b[43m \u001b[49m\u001b[43margs\u001b[49m\u001b[43m)\u001b[49m\u001b[43m,\u001b[49m\n\u001b[1;32m   1476\u001b[0m \u001b[43m            \u001b[49m\u001b[38;5;241;43m*\u001b[39;49m\u001b[38;5;241;43m*\u001b[39;49m\u001b[43m{\u001b[49m\u001b[43mk\u001b[49m\u001b[43m:\u001b[49m\u001b[43m \u001b[49m\u001b[43msanitize_sequence\u001b[49m\u001b[43m(\u001b[49m\u001b[43mv\u001b[49m\u001b[43m)\u001b[49m\u001b[43m \u001b[49m\u001b[38;5;28;43;01mfor\u001b[39;49;00m\u001b[43m \u001b[49m\u001b[43mk\u001b[49m\u001b[43m,\u001b[49m\u001b[43m \u001b[49m\u001b[43mv\u001b[49m\u001b[43m \u001b[49m\u001b[38;5;129;43;01min\u001b[39;49;00m\u001b[43m \u001b[49m\u001b[43mkwargs\u001b[49m\u001b[38;5;241;43m.\u001b[39;49m\u001b[43mitems\u001b[49m\u001b[43m(\u001b[49m\u001b[43m)\u001b[49m\u001b[43m}\u001b[49m\u001b[43m)\u001b[49m\n\u001b[1;32m   1478\u001b[0m     bound \u001b[38;5;241m=\u001b[39m new_sig\u001b[38;5;241m.\u001b[39mbind(ax, \u001b[38;5;241m*\u001b[39margs, \u001b[38;5;241m*\u001b[39m\u001b[38;5;241m*\u001b[39mkwargs)\n\u001b[1;32m   1479\u001b[0m     auto_label \u001b[38;5;241m=\u001b[39m (bound\u001b[38;5;241m.\u001b[39marguments\u001b[38;5;241m.\u001b[39mget(label_namer)\n\u001b[1;32m   1480\u001b[0m                   \u001b[38;5;129;01mor\u001b[39;00m bound\u001b[38;5;241m.\u001b[39mkwargs\u001b[38;5;241m.\u001b[39mget(label_namer))\n",
      "File \u001b[0;32m~/miniconda3/envs/stark/lib/python3.12/site-packages/matplotlib/axes/_axes.py:3743\u001b[0m, in \u001b[0;36mAxes.errorbar\u001b[0;34m(self, x, y, yerr, xerr, fmt, ecolor, elinewidth, capsize, barsabove, lolims, uplims, xlolims, xuplims, errorevery, capthick, **kwargs)\u001b[0m\n\u001b[1;32m   3740\u001b[0m res \u001b[38;5;241m=\u001b[39m np\u001b[38;5;241m.\u001b[39mzeros(err\u001b[38;5;241m.\u001b[39mshape, dtype\u001b[38;5;241m=\u001b[39m\u001b[38;5;28mbool\u001b[39m)  \u001b[38;5;66;03m# Default in case of nan\u001b[39;00m\n\u001b[1;32m   3741\u001b[0m \u001b[38;5;28;01mif\u001b[39;00m np\u001b[38;5;241m.\u001b[39many(np\u001b[38;5;241m.\u001b[39mless(err, \u001b[38;5;241m-\u001b[39merr, out\u001b[38;5;241m=\u001b[39mres, where\u001b[38;5;241m=\u001b[39m(err \u001b[38;5;241m==\u001b[39m err))):\n\u001b[1;32m   3742\u001b[0m     \u001b[38;5;66;03m# like err<0, but also works for timedelta and nan.\u001b[39;00m\n\u001b[0;32m-> 3743\u001b[0m     \u001b[38;5;28;01mraise\u001b[39;00m \u001b[38;5;167;01mValueError\u001b[39;00m(\n\u001b[1;32m   3744\u001b[0m         \u001b[38;5;124mf\u001b[39m\u001b[38;5;124m\"\u001b[39m\u001b[38;5;124m'\u001b[39m\u001b[38;5;132;01m{\u001b[39;00mdep_axis\u001b[38;5;132;01m}\u001b[39;00m\u001b[38;5;124merr\u001b[39m\u001b[38;5;124m'\u001b[39m\u001b[38;5;124m must not contain negative values\u001b[39m\u001b[38;5;124m\"\u001b[39m)\n\u001b[1;32m   3745\u001b[0m \u001b[38;5;66;03m# This is like\u001b[39;00m\n\u001b[1;32m   3746\u001b[0m \u001b[38;5;66;03m#     elow, ehigh = np.broadcast_to(...)\u001b[39;00m\n\u001b[1;32m   3747\u001b[0m \u001b[38;5;66;03m#     return dep - elow * ~lolims, dep + ehigh * ~uplims\u001b[39;00m\n\u001b[1;32m   3748\u001b[0m \u001b[38;5;66;03m# except that broadcast_to would strip units.\u001b[39;00m\n\u001b[1;32m   3749\u001b[0m low, high \u001b[38;5;241m=\u001b[39m dep \u001b[38;5;241m+\u001b[39m np\u001b[38;5;241m.\u001b[39mvstack([\u001b[38;5;241m-\u001b[39m(\u001b[38;5;241m1\u001b[39m \u001b[38;5;241m-\u001b[39m lolims), \u001b[38;5;241m1\u001b[39m \u001b[38;5;241m-\u001b[39m uplims]) \u001b[38;5;241m*\u001b[39m err\n",
      "\u001b[0;31mValueError\u001b[0m: 'yerr' must not contain negative values"
     ]
    },
    {
     "data": {
      "image/png": "[encoded data removed]",
      "text/plain": [
       "<Figure size 1000x1000 with 2 Axes>"
      ]
     },
     "metadata": {},
     "output_type": "display_data"
    }
   ],
   "source": [
    "def plot_ensemble(result_dict):\n",
    "    fig, (ax1, ax2) = plt.subplots(nrows = 2, figsize=(10,10))\n",
    "\n",
    "    for key in result_dict.keys():\n",
    "        ax1.errorbar(result_dict[key][:,0], result_dict[key][:,1], yerr = result_dict[key][:,2], markersize=8, capsize=10)\n",
    "        ax2.scatter(result_dict[key][:,0], result_dict[key][:,3])\n",
    "    \n",
    "    ax1.axhline(y = 0, c = 'k', ls = '--')\n",
    "    ax1.set_ylabel('$RV - RV_0$ [$km/s]$')\n",
    "\n",
    "    ax2.axhline(y = 0, c = 'k', ls = '--')\n",
    "    ax2.set_ylabel('$\\\\chi$ Agreement')\n",
    "    ax2.set_xlabel(r'Fit Window Size [$\\AA$]')\n",
    "\n",
    "    fig, ax = plt.subplots(nrows = 1, figsize=(10,6))\n",
    "\n",
    "    sigs, wls = [], []\n",
    "    for key in result_dict.keys():\n",
    "        wls.append(result_dict[key][:,0])\n",
    "        sigs.append(result_dict[key][:,3])\n",
    "    sigs = np.array(sigs)\n",
    "\n",
    "    wl = wls[0]\n",
    "    mean_sig = np.average(sigs, axis=0)\n",
    "    median_sig = np.median(sigs, axis=0)\n",
    "    std_sig = np.std(sigs, axis=0)\n",
    "\n",
    "    scatter = {'s' : 40}\n",
    "    ax.errorbar(wl, mean_sig, yerr = std_sig, label = f'Mean $\\chi^2$ (n = {len(result_dict.keys())})', c = 'k', fmt = 'o', markersize=8, capsize=10)\n",
    "    ax.scatter(wl, median_sig, label = f'Median $\\chi^2$ (n = {len(result_dict.keys())})', c = 'blue', s = 60, zorder=10)\n",
    "\n",
    "    xmin, xmax = ax.get_xlim()\n",
    "    ax.fill_between([xmin,xmax], -1, 1, color='green', alpha=0.5, zorder=0)\n",
    "    ax.set_xlim(xmin, xmax)\n",
    "    ax.axhline(y = 0, c = 'k', ls = '--')\n",
    "    \n",
    "    ax.set_xlabel(r'Fit Window Size [$\\AA$]')\n",
    "    ax.set_ylabel('$\\chi^2$ Agreement')\n",
    "    ax.legend(framealpha=0)\n",
    "\n",
    "plot_ensemble(results)"
   ]
  },
  {
   "cell_type": "code",
   "execution_count": null,
   "metadata": {},
   "outputs": [],
   "source": []
  }
 ],
 "metadata": {
  "kernelspec": {
   "display_name": "stark",
   "language": "python",
   "name": "python3"
  },
  "language_info": {
   "codemirror_mode": {
    "name": "ipython",
    "version": 3
   },
   "file_extension": ".py",
   "mimetype": "text/x-python",
   "name": "python",
   "nbconvert_exporter": "python",
   "pygments_lexer": "ipython3",
   "version": "3.12.4"
  }
 },
 "nbformat": 4,
 "nbformat_minor": 2
}
