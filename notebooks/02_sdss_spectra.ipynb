{
 "cells": [
  {
   "cell_type": "code",
   "execution_count": 1,
   "metadata": {},
   "outputs": [
    {
     "name": "stdout",
     "output_type": "stream",
     "text": [
      "Could not find the pickled WD models. If you need to use these models, please re-import corv with the proper path.\n",
      "/Users/vedantchandra/0_research/01_sdss5/006_build_corv/data/comm_cat/\n",
      "star and exposure catalogs not found! check paths and run make_catalogs() if you want to use sdss functionality. otherwise ignore.\n"
     ]
    }
   ],
   "source": [
    "import sys\n",
    "sys.path.append('../')\n",
    "\n",
    "import pandas as pd\n",
    "from astroquery.sdss import SDSS\n",
    "from astropy.io import fits\n",
    "from astropy.table import Table\n",
    "\n",
    "from stark import sdss"
   ]
  },
  {
   "cell_type": "code",
   "execution_count": 2,
   "metadata": {},
   "outputs": [],
   "source": [
    "catalog = pd.read_csv('../data/raw/Arseneau_2024.csv')"
   ]
  },
  {
   "cell_type": "code",
   "execution_count": 4,
   "metadata": {},
   "outputs": [
    {
     "name": "stderr",
     "output_type": "stream",
     "text": [
      "  9%|▉         | 35/399 [13:16<2:18:13, 22.79s/it]"
     ]
    }
   ],
   "source": [
    "sp = sdss.SDSSHandler(catalog, 'wd_rv_from', '../data/raw/sdss5', '../data/raw/apo')\n",
    "results = sp.analyze_table('../data/processed/Arseneau_2024.json', lines = ['a', 'b', 'g', 'd'])"
   ]
  },
  {
   "cell_type": "code",
   "execution_count": 5,
   "metadata": {},
   "outputs": [
    {
     "data": {
      "text/plain": [
       "wd_source_id             78630783787018624\n",
       "wd_ra                            29.958701\n",
       "wd_dec                            15.83167\n",
       "wd_instrument                         BOSS\n",
       "wd_filepath                            NaN\n",
       "wd_rv_from                           sdss4\n",
       "wd_plate                            5119.0\n",
       "wd_mjd                             55836.0\n",
       "wd_fiberid                           240.0\n",
       "wd_rv                            97.570576\n",
       "wd_e_rv                          39.864918\n",
       "paths                                  NaN\n",
       "snr                               5.342997\n",
       "wd_catalog_id                            0\n",
       "rv_id                                  0.0\n",
       "wd_rechi                          0.864229\n",
       "ms_source_id             78630547564037504\n",
       "radial_velocity                   5.590984\n",
       "radial_velocity_error             0.404192\n",
       "Name: 0, dtype: object"
      ]
     },
     "execution_count": 5,
     "metadata": {},
     "output_type": "execute_result"
    }
   ],
   "source": [
    "catalog.iloc[0]"
   ]
  },
  {
   "cell_type": "code",
   "execution_count": null,
   "metadata": {},
   "outputs": [],
   "source": []
  }
 ],
 "metadata": {
  "kernelspec": {
   "display_name": "stark",
   "language": "python",
   "name": "python3"
  },
  "language_info": {
   "codemirror_mode": {
    "name": "ipython",
    "version": 3
   },
   "file_extension": ".py",
   "mimetype": "text/x-python",
   "name": "python",
   "nbconvert_exporter": "python",
   "pygments_lexer": "ipython3",
   "version": "3.12.4"
  }
 },
 "nbformat": 4,
 "nbformat_minor": 2
}
